{
 "cells": [
  {
   "cell_type": "markdown",
   "id": "fa503170-4561-41b2-842a-88cff1e9706e",
   "metadata": {},
   "source": [
    "# MORPC Insights - Employment by Industry"
   ]
  },
  {
   "cell_type": "markdown",
   "id": "138fdab0-d10a-44c5-a7fd-a439c1c76dab",
   "metadata": {},
   "source": [
    "## Overview"
   ]
  },
  {
   "cell_type": "markdown",
   "id": "8c45b24b-d79e-4097-b761-4ff9ddb1833c",
   "metadata": {},
   "source": [
    "The Bureau of Labor Statistics administers a program called the [Quarterly Census of Employment and Wages](https://www.bls.gov/cew/).\n",
    "  \n",
    "This notebook produces a tileset that includes a summary of employment by industry for the MORPC 15-county region and the counties."
   ]
  },
  {
   "cell_type": "markdown",
   "id": "da411e75-ebcd-46ad-ad74-62ec60a2b9cb",
   "metadata": {},
   "source": [
    "## To do"
   ]
  },
  {
   "cell_type": "markdown",
   "id": "2e6eec61-946b-49b4-8ffb-143bb85428f3",
   "metadata": {},
   "source": [
    " -  For the 2025 release, the input data was prepared by a manual, undocumented process.  The process should be documented (and ideally automated) for the next release."
   ]
  },
  {
   "cell_type": "markdown",
   "id": "501234fd-1d76-46cd-b3cd-a0fa87dcfa72",
   "metadata": {},
   "source": [
    "## Setup"
   ]
  },
  {
   "cell_type": "markdown",
   "id": "23e1b96c-dc79-428b-9a58-a01034b95a3f",
   "metadata": {},
   "source": [
    "### Load required libraries"
   ]
  },
  {
   "cell_type": "code",
   "execution_count": null,
   "id": "fbfaae2a-93f8-4f4b-949d-3362aaf5f8e8",
   "metadata": {},
   "outputs": [],
   "source": [
    "import pandas as pd\n",
    "import frictionless\n",
    "import os\n",
    "import sys\n",
    "import datetime\n",
    "import json\n",
    "import textwrap\n",
    "import matplotlib\n",
    "from matplotlib import pyplot as plt\n",
    "sys.path.append(os.path.normpath(\"../morpc-common\"))\n",
    "import morpc"
   ]
  },
  {
   "cell_type": "markdown",
   "id": "52cbfccb-005e-4bad-ad8b-b21c0a4f325a",
   "metadata": {},
   "source": [
    "### User-specified parameters"
   ]
  },
  {
   "cell_type": "code",
   "execution_count": null,
   "id": "a480afae-e01a-4a37-92e3-315db60ab130",
   "metadata": {},
   "outputs": [],
   "source": [
    "YEAR_RANGE = [2018, 2022]"
   ]
  },
  {
   "cell_type": "markdown",
   "id": "c74da6ae-ce96-473c-822a-b4fc5719f930",
   "metadata": {},
   "source": [
    "### Static parameters"
   ]
  },
  {
   "cell_type": "code",
   "execution_count": null,
   "id": "ae61ecca-a678-46e0-90bf-4071824b658c",
   "metadata": {},
   "outputs": [],
   "source": [
    "INPUT_DIR = os.path.normpath(\"./input_data\")\n",
    "\n",
    "OUTPUT_DIR = os.path.normpath(\"./output_data\")\n",
    "\n",
    "CHART_DIRNAME = \"charts\""
   ]
  },
  {
   "cell_type": "markdown",
   "id": "cddc7524-337e-4a9f-88be-22ea50e9b605",
   "metadata": {},
   "source": [
    "### Define inputs"
   ]
  },
  {
   "cell_type": "markdown",
   "id": "32bcf1e1-a435-4830-91a3-918fff04ab62",
   "metadata": {},
   "source": [
    "#### Create input data directory"
   ]
  },
  {
   "cell_type": "markdown",
   "id": "ae784100-56db-44e6-b3a9-8bfc8803a23f",
   "metadata": {},
   "source": [
    "Create input data directory if it doesn't exist."
   ]
  },
  {
   "cell_type": "code",
   "execution_count": null,
   "id": "d6f62a33-c0f4-4c7d-8c90-b21a400baf12",
   "metadata": {},
   "outputs": [],
   "source": [
    "inputDir = os.path.normpath(INPUT_DIR)\n",
    "if not os.path.exists(inputDir):\n",
    "    os.makedirs(inputDir)"
   ]
  },
  {
   "cell_type": "markdown",
   "id": "f7999643-1a65-41a5-acd4-8bdd29aab6e3",
   "metadata": {},
   "source": [
    "#### Summarized employment data"
   ]
  },
  {
   "cell_type": "code",
   "execution_count": null,
   "id": "71ec6d08-55bf-4f9e-a2c2-09fddb2d2a8b",
   "metadata": {},
   "outputs": [],
   "source": [
    "EMP_INPUT_TABLE_FILENAME = \"morpc-qcew-2018-2022-annual-MORPC15_readable.csv\"\n",
    "EMP_INPUT_TABLE_PATH = os.path.join(inputDir, EMP_INPUT_TABLE_FILENAME)\n",
    "print(\"Data: {}\".format(EMP_INPUT_TABLE_PATH))"
   ]
  },
  {
   "cell_type": "markdown",
   "id": "d9fabf1b-a38b-4e2d-a509-b8c41e4ff2e8",
   "metadata": {},
   "source": [
    "#### Geography lookup table [375]"
   ]
  },
  {
   "cell_type": "markdown",
   "id": "b435b503-5567-470f-8c71-6a80bb35ee3d",
   "metadata": {},
   "source": [
    "#### MORPC member list [122]"
   ]
  },
  {
   "cell_type": "markdown",
   "id": "b58edbe9-336f-4f58-9f31-254a34f94193",
   "metadata": {
    "tags": []
   },
   "source": [
    "### Define outputs"
   ]
  },
  {
   "cell_type": "markdown",
   "id": "3f57107a-31a6-457c-a22c-65be8fef7c5c",
   "metadata": {
    "tags": []
   },
   "source": [
    "#### Create output data directory"
   ]
  },
  {
   "cell_type": "markdown",
   "id": "b63d5095-c667-4d2a-9999-730b5cc908ca",
   "metadata": {},
   "source": [
    "Create output data directory if it doesn't exist."
   ]
  },
  {
   "cell_type": "code",
   "execution_count": null,
   "id": "a5c22774-0f90-4d4f-becd-504640a48e26",
   "metadata": {},
   "outputs": [],
   "source": [
    "outputDir = os.path.normpath(OUTPUT_DIR)\n",
    "if not os.path.exists(outputDir):\n",
    "    os.makedirs(outputDir)   "
   ]
  },
  {
   "cell_type": "code",
   "execution_count": null,
   "id": "bc7d60a1-759f-4377-8db1-dfb165cbe583",
   "metadata": {},
   "outputs": [],
   "source": [
    "chartDir = os.path.join(outputDir, CHART_DIRNAME)\n",
    "if not os.path.exists(chartDir):\n",
    "    os.makedirs(chartDir)    "
   ]
  },
  {
   "cell_type": "markdown",
   "id": "b63fc70b-aed7-42f6-9e66-45d0cb9c7e4f",
   "metadata": {},
   "source": [
    "## Prepare input data"
   ]
  },
  {
   "cell_type": "markdown",
   "id": "7ff6ae6f-4928-4b74-af1f-5fa6723a5d5d",
   "metadata": {},
   "source": [
    "### Load summarized employment data"
   ]
  },
  {
   "cell_type": "code",
   "execution_count": null,
   "id": "1ae9785a-e0ed-424d-8913-ab9c1fdea5a3",
   "metadata": {
    "scrolled": true
   },
   "outputs": [],
   "source": [
    "employmentRaw = pd.read_csv(EMP_INPUT_TABLE_PATH)\n",
    "employmentRaw.head()"
   ]
  },
  {
   "cell_type": "markdown",
   "id": "9055b25c-ac1a-4e29-b197-30f59866da47",
   "metadata": {},
   "source": [
    "## Transform data"
   ]
  },
  {
   "cell_type": "markdown",
   "id": "1848ff08-522d-4ca5-9fb8-a7123d2cfb3b",
   "metadata": {},
   "source": [
    "Filter data to exclude 'Total, all industries'"
   ]
  },
  {
   "cell_type": "code",
   "execution_count": null,
   "id": "15f84f03-5b64-4615-943a-c37bd2f1f192",
   "metadata": {},
   "outputs": [],
   "source": [
    "filtered_data = employmentRaw.copy()\n",
    "\n",
    "filtered_data = filtered_data[filtered_data['industry_code'] != 10]\n",
    "\n",
    "filtered_data = filtered_data[filtered_data['own_code'] == 10]\n",
    "\n",
    "filtered_data = filtered_data[filtered_data['agglvl_code'] == 73]\n",
    "\n",
    "filtered_data = filtered_data.sort_values(['area_fips','year','qtr','industry_code_name'])"
   ]
  },
  {
   "cell_type": "markdown",
   "id": "cc1903ec-a9ec-4aa4-bd10-6511b9907833",
   "metadata": {},
   "source": [
    "## Generate static charts"
   ]
  },
  {
   "cell_type": "code",
   "execution_count": null,
   "id": "a7ba0218-5d77-4da8-b4cc-a483c9f05c95",
   "metadata": {},
   "outputs": [],
   "source": [
    "for f in os.scandir(chartDir):\n",
    "    os.remove(f)"
   ]
  },
  {
   "cell_type": "markdown",
   "id": "f481b37a-4fec-4bb8-912a-e96cd616cc48",
   "metadata": {},
   "source": [
    "Load a standard color set for the chart elements.  There are a lot of catagories, so combine the colors from two sets.  Ideally the colors would be selected more intentionally."
   ]
  },
  {
   "cell_type": "code",
   "execution_count": null,
   "id": "4f65d85b-aa80-45b9-9363-990bf43b2485",
   "metadata": {},
   "outputs": [],
   "source": [
    "import importlib\n",
    "importlib.reload(morpc)"
   ]
  },
  {
   "cell_type": "code",
   "execution_count": null,
   "id": "be5ecafa-6a1c-4482-a608-661f61939d6e",
   "metadata": {},
   "outputs": [],
   "source": [
    "colorset = json.loads(json.dumps(morpc.CONST_COLOR_CYCLES[\"pairing1\"]))"
   ]
  },
  {
   "cell_type": "code",
   "execution_count": null,
   "id": "711d3344-7a77-4202-88f1-33d2d57c9f26",
   "metadata": {},
   "outputs": [],
   "source": [
    "%matplotlib agg\n",
    "\n",
    "# Iterate over each geography in data set\n",
    "for county in filtered_data['county_name'].unique():\n",
    "   \n",
    "    county_data = filtered_data[filtered_data['county_name'] == county]\n",
    "    \n",
    "    # Ensure 'YEAR', 'annual_avg_emplvl_prop', and 'industry_code_name' columns are present\n",
    "    county_data = county_data[['year', 'annual_avg_emplvl_prop', 'industry_code_name']]\n",
    "    \n",
    "    # Aggregate to handle duplicates by taking the mean\n",
    "    county_data = county_data.groupby(['year', 'industry_code_name'], as_index=False).agg({'annual_avg_emplvl_prop': 'mean'})\n",
    "    \n",
    "    # Pivot data to have 'industry_code_name' as columns for plotting\n",
    "    county_data_pivot = county_data.pivot(index='year', columns='industry_code_name', values='annual_avg_emplvl_prop')\n",
    "    county_data_pivot.index.name = \"Year\"    \n",
    "\n",
    "    # Normalize data for 100% stacking\n",
    "    county_data_pivot_percentage = county_data_pivot.div(county_data_pivot.sum(axis=1), axis=0) * 100\n",
    "\n",
    "    # Reverse the order of the columns so the categories appear alphabetically from top to bottom\n",
    "    county_data_pivot_percentage = county_data_pivot_percentage[county_data_pivot_percentage.columns[::-1]]\n",
    "    \n",
    "    # Generate a title string\n",
    "    title = \"Employment Share by Industry - {}\".format(county)\n",
    "    xlabel = None\n",
    "    ylabel = \"Percent of employed workers\"\n",
    "    \n",
    "    # Create and annotate the plot\n",
    "    PLOTWIDTH = 8\n",
    "    fig,ax = plt.subplots(figsize=(PLOTWIDTH,PLOTWIDTH/16*9))\n",
    "\n",
    "    county_data_pivot_percentage.plot.bar(ax=ax, stacked=True, color=colorset)\n",
    "\n",
    "    ax.set_title(title, fontsize=14)\n",
    "    ax.set_xlabel(xlabel)\n",
    "    ax.set_ylabel(ylabel)\n",
    "    ax.set_ylim(ymin=0, ymax=100)\n",
    "    plt.xticks(rotation=30, fontsize=10)\n",
    "    handles, labels = ax.get_legend_handles_labels()\n",
    "    labels = [textwrap.fill(label, 24) for label in labels]\n",
    "    legend = plt.legend(handles[::-1], labels[::-1], title='Industry', bbox_to_anchor=(1.05, 1), loc='upper left', fontsize=10)\n",
    "    plt.tight_layout()\n",
    "    \n",
    "    # Format the y-axis labels as integers with comma separators\n",
    "    ax.get_yaxis().set_major_formatter(matplotlib.ticker.FuncFormatter(lambda x, p: format(int(x), ',')))\n",
    "    \n",
    "    filename = (\"Region15\" if county == \"15-County Region\" else county.replace(\" County\",\"\"))\n",
    "    \n",
    "    # Save the figure to disk as an SVG file\n",
    "    ax.figure.savefig(os.path.join(chartDir, \"shares-{}.svg\".format(filename)), bbox_extra_artists=(legend,), bbox_inches='tight')\n",
    "    \n",
    "    plt.close(ax.figure)\n",
    "\n",
    "    writer = pd.ExcelWriter(os.path.join(chartDir, \"shares-{}.xlsx\".format(filename)), engine='xlsxwriter')\n",
    "    dataOptions = {\n",
    "        \"numberFormat\": \"#,##0\",\n",
    "        \"columnWidth\": 30\n",
    "    }\n",
    "    chartOptions = {\n",
    "        \"subtype\":\"stacked\",\n",
    "        \"colors\": colorset,\n",
    "        \"titles\": {\n",
    "            \"chartTitle\": title,\n",
    "            \"xTitle\": xlabel,\n",
    "            \"yTitle\": ylabel\n",
    "        },\n",
    "        \"seriesOptions\": [{\"gap\":50} for x in county_data_pivot_percentage.columns],\n",
    "        \"xAxisOptions\": {\n",
    "            \"num_font\": {\"size\":14},\n",
    "            \"major_gridlines\": {\"visible\":False}\n",
    "        },\n",
    "        \"yAxisOptions\": {\n",
    "            \"min\":0,\n",
    "            \"max\":100,\n",
    "            \"num_font\": {\"size\":14},\n",
    "            \"name_font\": {\"size\": 14},\n",
    "            \"num_format\": \"#,##0\",\n",
    "            \"major_gridlines\": {\"visible\":False}            \n",
    "        },\n",
    "        \"legendOptions\":{\n",
    "            \"position\":\"right\",\n",
    "            \"font\":{\"size\":14}\n",
    "        },\n",
    "        \"sizeOptions\":{\n",
    "            \"x_scale\":2,\n",
    "            \"y_scale\":2\n",
    "        },\n",
    "        \"location\": \"below\"\n",
    "    }\n",
    "    morpc.data_chart_to_excel(county_data_pivot_percentage, writer, chartType=\"column\", dataOptions=dataOptions, chartOptions=chartOptions)\n",
    "    writer.close()    \n",
    "    \n",
    "%matplotlib inline    "
   ]
  },
  {
   "cell_type": "markdown",
   "id": "e59b5dd6-0422-4440-8959-57f72aa11a86",
   "metadata": {
    "tags": []
   },
   "source": [
    "## Generate Insights catalog content"
   ]
  },
  {
   "cell_type": "markdown",
   "id": "02913180-2be8-420d-bf19-59dd91c80c3b",
   "metadata": {},
   "source": [
    "The content in the Insights platform is controlled by a catalog spreadsheet. Each tile to be displayed in the platform must have a record in the catalog.  This section will create the records for the tiles that display the alternative fuel station data.  Eventually this function will be performed by a separate staging script."
   ]
  },
  {
   "cell_type": "markdown",
   "id": "ab979fcc-2cd4-4336-b161-89e799638556",
   "metadata": {},
   "source": [
    "First specify the column names used in the catalog."
   ]
  },
  {
   "cell_type": "code",
   "execution_count": null,
   "id": "ba8e1119-0ee8-4b74-a0c7-6ff2f540914a",
   "metadata": {},
   "outputs": [],
   "source": [
    "columnNames=[\"TileID\",\"TilesetID\",\"GeographyType\",\"GeographyName\",\"Category\",\"Headline\",\"Commentary\",\"ThumbnailURL\",\"Contributor\",\"Vintage\",\"UpdateInterval\",\"ShareURL\",\"DataProductURL\",\"MoreInformationURL\"]"
   ]
  },
  {
   "cell_type": "markdown",
   "id": "658f6128-068b-4c7a-adf5-44bd22f035c5",
   "metadata": {},
   "source": [
    "Create a new dataframe for the catalog."
   ]
  },
  {
   "cell_type": "code",
   "execution_count": null,
   "id": "e318e921-5f50-4958-9782-9ebf06fc7d70",
   "metadata": {},
   "outputs": [],
   "source": [
    "catalog = pd.DataFrame(index=range(0,16), columns=columnNames)"
   ]
  },
  {
   "cell_type": "markdown",
   "id": "8522c9f0-5957-4f7d-9f99-06dc1042c165",
   "metadata": {},
   "source": [
    "Add the names of the counties and the region."
   ]
  },
  {
   "cell_type": "code",
   "execution_count": null,
   "id": "6cfbc796-1e86-48a2-8397-2e505d7d4120",
   "metadata": {},
   "outputs": [],
   "source": [
    "catalog[\"GeographyName\"] = filtered_data[\"county_name\"].unique()"
   ]
  },
  {
   "cell_type": "markdown",
   "id": "93280da9-e029-4a00-94ac-6295c143263e",
   "metadata": {},
   "source": [
    "Add the geography types."
   ]
  },
  {
   "cell_type": "code",
   "execution_count": null,
   "id": "72e77ec8-d9c6-4398-8df9-0ba5d4407216",
   "metadata": {},
   "outputs": [],
   "source": [
    "catalog[\"GeographyType\"] = catalog[\"GeographyName\"].apply(lambda name:(\"Region\" if name == \"15-County Region\" else \"County\"))"
   ]
  },
  {
   "cell_type": "markdown",
   "id": "4bdd6ee0-4dce-42f0-aecb-1d159103ae18",
   "metadata": {},
   "source": [
    "Add a temporary column to use to populate target URLs."
   ]
  },
  {
   "cell_type": "code",
   "execution_count": null,
   "id": "4b607e7e-c0a0-4e0e-a059-c86e4183ba5f",
   "metadata": {},
   "outputs": [],
   "source": [
    "catalog[\"GEOLABEL\"] = catalog[\"GeographyName\"].apply(lambda name:(\"Region15\" if name == \"15-County Region\" else name.replace(\" County\",\"\")))"
   ]
  },
  {
   "cell_type": "markdown",
   "id": "5fd9d8d4-e9c6-405f-9f5d-e1f906e66dba",
   "metadata": {},
   "source": [
    "Populate some placeholder fields."
   ]
  },
  {
   "cell_type": "code",
   "execution_count": null,
   "id": "83f139a4-cf21-4898-afd7-a33d23d5257d",
   "metadata": {
    "tags": []
   },
   "outputs": [],
   "source": [
    "catalog[\"TileID\"] = None\n",
    "catalog[\"TilesetID\"] = \"TBD-Shares\"\n",
    "catalog[\"Category\"] = None\n",
    "catalog[\"Headline\"] = \"TBD\"\n",
    "catalog[\"Commentary\"] = \"TBD\""
   ]
  },
  {
   "cell_type": "markdown",
   "id": "eb130007-ad06-4f85-848d-d8e4bd12fdd9",
   "metadata": {},
   "source": [
    "Generate the URL for the thumbnail images. These will be hosted in GitHub and will be indexed by GEOLABEL."
   ]
  },
  {
   "cell_type": "code",
   "execution_count": null,
   "id": "09e0c17e-a4ff-421e-828a-d7af2d8db160",
   "metadata": {},
   "outputs": [],
   "source": [
    "catalog[\"ThumbnailURL\"] = catalog[\"GEOLABEL\"].apply(lambda name:\"https://raw.githubusercontent.com/morpc-insights/employment-industry/refs/heads/main/output_data/charts/shares-{}.svg\".format(name))"
   ]
  },
  {
   "cell_type": "markdown",
   "id": "a9ea7606-4561-4f3b-8ad2-1eec057eb964",
   "metadata": {},
   "source": [
    "Populate some other simple metadata.  Vintage in this case refers to the year that the content was published in Insights. This is to give readers an idea of how old it is.  UpdateInterval gives them an idea of when to expect the next version. ShareURL is a placeholder for now."
   ]
  },
  {
   "cell_type": "code",
   "execution_count": null,
   "id": "cae2af12-4d2b-4412-a8f3-705d86d6f536",
   "metadata": {},
   "outputs": [],
   "source": [
    "catalog[\"Contributor\"] = \"Mid-Ohio Regional Planning Commission\"\n",
    "catalog[\"Vintage\"] = str(datetime.date.today().year)\n",
    "catalog[\"UpdateInterval\"] = \"annually\"\n",
    "catalog[\"ShareURL\"] = None"
   ]
  },
  {
   "cell_type": "markdown",
   "id": "28bfb6a3-27d9-4131-940a-406bed945494",
   "metadata": {},
   "source": [
    "Generate the data product URL.  This points to an ArcGIS Dashboard that accepts URL parameters.  GEOLABEL is passed as a parameter to tell the app to load the data for a particular geography."
   ]
  },
  {
   "cell_type": "code",
   "execution_count": null,
   "id": "4bffdde0-e19e-4b04-bc00-d27123c4114f",
   "metadata": {},
   "outputs": [],
   "source": [
    "catalog[\"DataProductURL\"] = catalog[\"GeographyName\"].apply(lambda name:\"https://www.arcgis.com/apps/dashboards/f939956abd634937b0e875b7a277aec9#region={}\".format(name.replace(\" \",\"%20\")))"
   ]
  },
  {
   "cell_type": "markdown",
   "id": "65a5b049-b7be-47ea-8753-a34070a72648",
   "metadata": {},
   "source": [
    "Capture the fact sheet URL.  This points to a single document for all tiles in the tileset."
   ]
  },
  {
   "cell_type": "code",
   "execution_count": null,
   "id": "dc5f5363-8c90-4bf8-998c-bbda04093972",
   "metadata": {},
   "outputs": [],
   "source": [
    "catalog[\"MoreInformationURL\"] = \"https://morpc1-my.sharepoint.com/:w:/g/personal/aporr_morpc_org/EZcbpRmm-OVAloxLS3ZdKuIBEXDlLLfcxc66yA4282nWaA?e=DL4oZ1\""
   ]
  },
  {
   "cell_type": "markdown",
   "id": "50f1fcd6-5650-40ac-a55e-e69f3f4f258a",
   "metadata": {},
   "source": [
    "Extract only the required columns."
   ]
  },
  {
   "cell_type": "code",
   "execution_count": null,
   "id": "606f0ca0-e241-449a-95ea-f25728f3b922",
   "metadata": {},
   "outputs": [],
   "source": [
    "catalog = catalog.filter(items=columnNames, axis=\"columns\")"
   ]
  },
  {
   "cell_type": "markdown",
   "id": "9a155e2e-527e-4f8e-9b9f-3d9512d56dac",
   "metadata": {},
   "source": [
    "Inspect the listing."
   ]
  },
  {
   "cell_type": "code",
   "execution_count": null,
   "id": "87152eb4-293e-4e3c-90f8-4dfc69574840",
   "metadata": {},
   "outputs": [],
   "source": [
    "catalog.head()"
   ]
  },
  {
   "cell_type": "markdown",
   "id": "e3e75097-9673-4bee-98c5-2ee9cf13dae7",
   "metadata": {},
   "source": [
    "Save the catalog to an Excel spreadsheet."
   ]
  },
  {
   "cell_type": "code",
   "execution_count": null,
   "id": "d6813ca3-0f37-4160-b5c9-48c0dc48c45e",
   "metadata": {},
   "outputs": [],
   "source": [
    "catalog.to_excel(\"catalog.xlsx\", index=False)"
   ]
  },
  {
   "cell_type": "markdown",
   "id": "a1e8ca6c-53f3-485e-89b1-65373e6fcd15",
   "metadata": {},
   "source": [
    "It is necessary to manually add these records to the master catalog or update the records already therein.  See the following file in GitHub:\n",
    "\n",
    "https://github.com/morpc/morpc-insights/blob/main/catalog/morpc_insights_catalog.xlsx\n"
   ]
  }
 ],
 "metadata": {
  "kernelspec": {
   "display_name": "Python 3 (ipykernel)",
   "language": "python",
   "name": "python3"
  },
  "language_info": {
   "codemirror_mode": {
    "name": "ipython",
    "version": 3
   },
   "file_extension": ".py",
   "mimetype": "text/x-python",
   "name": "python",
   "nbconvert_exporter": "python",
   "pygments_lexer": "ipython3",
   "version": "3.12.3"
  }
 },
 "nbformat": 4,
 "nbformat_minor": 5
}
